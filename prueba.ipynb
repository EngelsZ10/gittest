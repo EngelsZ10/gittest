{
 "cells": [
  {
   "attachments": {},
   "cell_type": "markdown",
   "metadata": {},
   "source": [
    "### Decimal a binario"
   ]
  },
  {
   "cell_type": "code",
   "execution_count": 29,
   "metadata": {},
   "outputs": [],
   "source": [
    "tobinary = lambda decimal, binario: binario[::-1] if decimal==0 else tobinary(decimal//2, binario+str(decimal%2))  \n",
    "def parce(decimal):\n",
    "    if isinstance(decimal, int):\n",
    "        return '0b' + tobinary(decimal, '')\n",
    "    else:\n",
    "        print(\"no se puede converitr\")"
   ]
  },
  {
   "attachments": {},
   "cell_type": "markdown",
   "metadata": {},
   "source": [
    "#### Prueba"
   ]
  },
  {
   "cell_type": "code",
   "execution_count": 32,
   "metadata": {},
   "outputs": [
    {
     "name": "stdout",
     "output_type": "stream",
     "text": [
      "respuesta  0b1010 0b1010 ✔\n",
      "respuesta  0b101 0b101 ✔\n",
      "respuesta  0b111 0b111 ✔\n",
      "respuesta  0b10100 0b10100 ✔\n",
      "no se puede converitr\n",
      "no se puede converitr\n"
     ]
    }
   ],
   "source": [
    "pruebas = [10, 5, 7, 20, \"adsa\", 1.2]\n",
    "\n",
    "for prueba in pruebas:\n",
    "    r = parce(prueba)\n",
    "    if r != None:\n",
    "        print(\n",
    "            \"respuesta \",\n",
    "            r,\n",
    "            bin(prueba),\n",
    "            u'\\u2714' if r==bin(prueba) else u'\\u2718'\n",
    "        )"
   ]
  }
 ],
 "metadata": {
  "kernelspec": {
   "display_name": "Python 3",
   "language": "python",
   "name": "python3"
  },
  "language_info": {
   "codemirror_mode": {
    "name": "ipython",
    "version": 3
   },
   "file_extension": ".py",
   "mimetype": "text/x-python",
   "name": "python",
   "nbconvert_exporter": "python",
   "pygments_lexer": "ipython3",
   "version": "3.10.2"
  },
  "orig_nbformat": 4
 },
 "nbformat": 4,
 "nbformat_minor": 2
}
