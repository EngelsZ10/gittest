{
 "cells": [
  {
   "attachments": {},
   "cell_type": "markdown",
   "metadata": {},
   "source": [
    "### Decimal a binario"
   ]
  },
  {
   "cell_type": "code",
   "execution_count": 29,
   "metadata": {},
   "outputs": [],
   "source": [
    "tobinary = lambda decimal, binario: binario[::-1] if decimal==0 else tobinary(decimal//2, binario+str(decimal%2))  \n",
    "def parce(decimal):\n",
    "    if isinstance(decimal, int):\n",
    "        return '0b' + tobinary(decimal, '')\n",
    "    else:\n",
    "        print(\"no se puede converitr\")"
   ]
  },
  {
   "attachments": {},
   "cell_type": "markdown",
   "metadata": {},
   "source": [
    "#### Prueba"
   ]
  },
  {
   "cell_type": "code",
   "execution_count": 53,
   "metadata": {},
   "outputs": [
    {
     "name": "stdout",
     "output_type": "stream",
     "text": [
      "respuesta  0b1010 0b1010 ✔\n",
      "respuesta  0b101 0b101 ✔\n",
      "respuesta  0b111 0b111 ✔\n",
      "respuesta  0b10100 0b10100 ✔\n",
      "no se puede converitr\n",
      "no se puede converitr\n"
     ]
    }
   ],
   "source": [
    "pruebas = [10, 5, 7, 20, \"adsa\", 1.2]\n",
    "\n",
    "for prueba in pruebas:\n",
    "    r = parce(prueba)\n",
    "    if r != None:\n",
    "        print(\n",
    "            \"respuesta \",\n",
    "            r,\n",
    "            bin(prueba),\n",
    "            u'\\u2714' if r==bin(prueba) else u'\\u2718'\n",
    "        )"
   ]
  },
  {
   "attachments": {},
   "cell_type": "markdown",
   "metadata": {},
   "source": [
    "### Factorial"
   ]
  },
  {
   "cell_type": "code",
   "execution_count": 54,
   "metadata": {},
   "outputs": [],
   "source": [
    "f = lambda x: x if x==1 else x*f(x-1)\n",
    "def factor(num):\n",
    "    if isinstance(num, int):\n",
    "        return f(num)\n",
    "    else:\n",
    "        print(\"no se puede calcular factorial\")"
   ]
  },
  {
   "attachments": {},
   "cell_type": "markdown",
   "metadata": {},
   "source": [
    "#### Pruebas"
   ]
  },
  {
   "cell_type": "code",
   "execution_count": 55,
   "metadata": {},
   "outputs": [
    {
     "name": "stdout",
     "output_type": "stream",
     "text": [
      "respuesta  3628800 3628800 ✔\n",
      "respuesta  120 120 ✔\n",
      "respuesta  5040 5040 ✔\n",
      "respuesta  2432902008176640000 2432902008176640000 ✔\n",
      "no se puede calcular factorial\n",
      "no se puede calcular factorial\n"
     ]
    }
   ],
   "source": [
    "from math import factorial\n",
    "\n",
    "pruebas = [10, 5, 7, 20, \"adsa\", 1.2]\n",
    "\n",
    "for prueba in pruebas:\n",
    "    r = factor(prueba)\n",
    "    if r != None:\n",
    "        print(\n",
    "            \"respuesta \",\n",
    "            r,\n",
    "            factorial(prueba),\n",
    "            u'\\u2714' if r==factorial(prueba) else u'\\u2718'\n",
    "        )\n"
   ]
  },
  {
   "cell_type": "code",
   "execution_count": null,
   "metadata": {},
   "outputs": [],
   "source": []
  }
 ],
 "metadata": {
  "kernelspec": {
   "display_name": "Python 3",
   "language": "python",
   "name": "python3"
  },
  "language_info": {
   "codemirror_mode": {
    "name": "ipython",
    "version": 3
   },
   "file_extension": ".py",
   "mimetype": "text/x-python",
   "name": "python",
   "nbconvert_exporter": "python",
   "pygments_lexer": "ipython3",
   "version": "3.10.2"
  },
  "orig_nbformat": 4
 },
 "nbformat": 4,
 "nbformat_minor": 2
}
